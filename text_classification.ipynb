{
 "cells": [
  {
   "cell_type": "code",
   "execution_count": null,
   "metadata": {},
   "outputs": [],
   "source": []
  },
  {
   "cell_type": "markdown",
   "metadata": {},
   "source": [
    "[link to the dataset](https://www.kaggle.com/code/akkefa/eda-toxic-comment-classification-challenge)"
   ]
  },
  {
   "cell_type": "markdown",
   "metadata": {},
   "source": [
    "### Text Preprocessing"
   ]
  },
  {
   "cell_type": "code",
   "execution_count": 1,
   "metadata": {},
   "outputs": [],
   "source": [
    "import pandas as pd\n",
    "\n",
    "# Load your dataset (assumed to be in CSV format)\n",
    "data = pd.read_csv(\"train.csv\")\n",
    "\n",
    "# Define your multilabel classes\n",
    "label_columns = ['toxic', 'severe_toxic', 'obscene', 'threat', 'insult', 'identity_hate']\n",
    "\n",
    "# Convert the labels from '0|0|0|...' format to FastText format '__label__toxic __label__obscene'\n",
    "def convert_labels(row):\n",
    "    labels = [f\"__label__{label}\" for label, val in zip(label_columns, row) if val == 1]\n",
    "    return ' '.join(labels)\n",
    "\n",
    "# Apply the conversion and create the FastText formatted training data\n",
    "data['labels'] = data[label_columns].apply(convert_labels, axis=1)\n",
    "\n",
    "# Prepare the data in FastText format\n",
    "with open(\"train.txt\", \"w\") as f:\n",
    "    for _, row in data.iterrows():\n",
    "        labels = row['labels']\n",
    "        text = row['comment_text'].replace(\"\\n\", \" \")  # Remove newlines from the text\n",
    "        if labels:\n",
    "            f.write(f\"{labels} {text}\\n\")\n"
   ]
  },
  {
   "cell_type": "code",
   "execution_count": 16,
   "metadata": {},
   "outputs": [],
   "source": [
    "import pandas\n",
    "csv_file = 'test.csv'\n",
    "txt_file = 'test.txt'\n",
    "with open(txt_file, \"w\") as my_output_file:\n",
    "    with open(csv_file, \"r\") as my_input_file:\n",
    "        comments=pd.read_csv(my_input_file)\n",
    "        comments=comments['comment_text']\n",
    "        text = comments.replace(\"\\n\", \" \")\n",
    "        comments.to_csv(my_output_file, index=False, header=False)\n",
    "    my_output_file.close()"
   ]
  },
  {
   "cell_type": "code",
   "execution_count": 2,
   "metadata": {},
   "outputs": [
    {
     "name": "stdout",
     "output_type": "stream",
     "text": [
      "  16225  890406 5515291 train.txt\n"
     ]
    }
   ],
   "source": [
    "! wc train.txt"
   ]
  },
  {
   "cell_type": "markdown",
   "metadata": {},
   "source": [
    "### Text Classification"
   ]
  },
  {
   "cell_type": "code",
   "execution_count": 3,
   "metadata": {},
   "outputs": [],
   "source": [
    "!head -n 11225 train.txt > hspeech.train\n",
    "!tail -n 5000 train.txt > hspeech.valid"
   ]
  },
  {
   "cell_type": "markdown",
   "metadata": {},
   "source": [
    "### Initial Model Creation"
   ]
  },
  {
   "cell_type": "code",
   "execution_count": 4,
   "metadata": {},
   "outputs": [
    {
     "name": "stderr",
     "output_type": "stream",
     "text": [
      "Read 0M words\n",
      "Number of words:  61479\n",
      "Number of labels: 6\n",
      "Progress: 100.0% words/sec/thread: 5874837 lr:  0.000000 avg.loss:  1.178751 ETA:   0h 0m 0s\n"
     ]
    }
   ],
   "source": [
    "import fasttext\n",
    "\n",
    "# Train the multilabel FastText classifier\n",
    "model = fasttext.train_supervised(input=\"hspeech.train\")\n",
    "\n",
    "# Save the model\n",
    "model.save_model(\"fasttext_multilabel.bin\")"
   ]
  },
  {
   "cell_type": "code",
   "execution_count": 5,
   "metadata": {},
   "outputs": [
    {
     "name": "stdout",
     "output_type": "stream",
     "text": [
      "__label__toxic: 0.7589246034622192\n",
      "__label__obscene: 0.12835420668125153\n",
      "__label__insult: 0.10290884226560593\n",
      "__label__identity_hate: 0.005275001749396324\n",
      "__label__severe_toxic: 0.0034729638136923313\n",
      "__label__threat: 0.001124377828091383\n"
     ]
    }
   ],
   "source": [
    "# Example comment to classify\n",
    "comment = \"I hate you and you're awful!\"\n",
    "\n",
    "# Predict multilabel classification\n",
    "labels, probabilities = model.predict(comment, k=-1)  # k=-1 returns all possible labels\n",
    "\n",
    "# Print the predicted labels and their probabilities\n",
    "for label, prob in zip(labels, probabilities):\n",
    "    print(f\"{label}: {prob}\")"
   ]
  },
  {
   "cell_type": "code",
   "execution_count": 5,
   "metadata": {},
   "outputs": [
    {
     "data": {
      "text/plain": [
       "(5000, 0.9382, 0.43195211786372006)"
      ]
     },
     "execution_count": 5,
     "metadata": {},
     "output_type": "execute_result"
    }
   ],
   "source": [
    "model.test(\"hspeech.valid\", k=1)"
   ]
  },
  {
   "cell_type": "markdown",
   "metadata": {},
   "source": [
    "### Using subword features"
   ]
  },
  {
   "cell_type": "code",
   "execution_count": 33,
   "metadata": {},
   "outputs": [
    {
     "name": "stderr",
     "output_type": "stream",
     "text": [
      "Read 0M words\n",
      "Number of words:  61479\n",
      "Number of labels: 6\n",
      "Progress: 100.0% words/sec/thread:  289259 lr:  0.000000 avg.loss:  1.242902 ETA:   0h 0m 0s\n"
     ]
    }
   ],
   "source": [
    "model = fasttext.train_supervised(input=\"hspeech.train\",minn=2, maxn=5, dim=300)"
   ]
  },
  {
   "cell_type": "code",
   "execution_count": 8,
   "metadata": {},
   "outputs": [
    {
     "data": {
      "text/plain": [
       "(5000, 0.9386, 0.4321362799263352)"
      ]
     },
     "execution_count": 8,
     "metadata": {},
     "output_type": "execute_result"
    }
   ],
   "source": [
    "model.test(\"hspeech.valid\", k=1)"
   ]
  },
  {
   "cell_type": "code",
   "execution_count": 34,
   "metadata": {},
   "outputs": [],
   "source": [
    "def evaluate(model):\n",
    "    result=model.test('hspeech.valid',k=1)\n",
    "    return {\"N\":result[0],\"precision\":result[1],\"recall\":result[2]}"
   ]
  },
  {
   "cell_type": "code",
   "execution_count": 39,
   "metadata": {},
   "outputs": [
    {
     "data": {
      "text/plain": [
       "{'N': 5000, 'precision': 0.9404, 'recall': 0.43296500920810316}"
      ]
     },
     "execution_count": 39,
     "metadata": {},
     "output_type": "execute_result"
    }
   ],
   "source": [
    "evaluate(model)"
   ]
  },
  {
   "cell_type": "markdown",
   "metadata": {},
   "source": [
    "### Using hierarchical softmax"
   ]
  },
  {
   "cell_type": "code",
   "execution_count": 38,
   "metadata": {},
   "outputs": [
    {
     "name": "stderr",
     "output_type": "stream",
     "text": [
      "Read 0M words\n",
      "Number of words:  61479\n",
      "Number of labels: 6\n",
      "Progress: 100.0% words/sec/thread:  299334 lr:  0.000000 avg.loss:  1.218488 ETA:   0h 0m 0s\n"
     ]
    }
   ],
   "source": [
    "model = fasttext.train_supervised(input=\"hspeech.train\",minn=2, maxn=5, dim=300,loss=\"hs\")"
   ]
  },
  {
   "cell_type": "code",
   "execution_count": 40,
   "metadata": {},
   "outputs": [
    {
     "data": {
      "text/plain": [
       "{'N': 5000, 'precision': 0.9404, 'recall': 0.43296500920810316}"
      ]
     },
     "execution_count": 40,
     "metadata": {},
     "output_type": "execute_result"
    }
   ],
   "source": [
    "evaluate(model)"
   ]
  },
  {
   "cell_type": "code",
   "execution_count": 9,
   "metadata": {},
   "outputs": [],
   "source": [
    "result=model.test(\"hspeech.valid\", k=1)"
   ]
  },
  {
   "cell_type": "code",
   "execution_count": 17,
   "metadata": {},
   "outputs": [
    {
     "name": "stdout",
     "output_type": "stream",
     "text": [
      "N 5000\n",
      "precision 0.9386\n",
      "recall 0.4321362799263352\n"
     ]
    }
   ],
   "source": [
    "print(\"N\",result[0])\n",
    "print(\"precision\",result[1])\n",
    "print(\"recall\",result[2])"
   ]
  },
  {
   "cell_type": "markdown",
   "metadata": {},
   "source": [
    "### Using Multiple features classfication"
   ]
  },
  {
   "cell_type": "code",
   "execution_count": 41,
   "metadata": {},
   "outputs": [
    {
     "name": "stderr",
     "output_type": "stream",
     "text": [
      "Read 0M words\n",
      "Number of words:  61479\n",
      "Number of labels: 6\n",
      "Progress: 100.0% words/sec/thread: 4891737 lr:  0.000000 avg.loss:  0.366729 ETA:   0h 0m 0s\n"
     ]
    }
   ],
   "source": [
    "model = fasttext.train_supervised(input=\"hspeech.train\", lr=0.5, epoch=25, wordNgrams=2, bucket=200000, dim=50, loss='ova')"
   ]
  },
  {
   "cell_type": "code",
   "execution_count": 42,
   "metadata": {},
   "outputs": [
    {
     "data": {
      "text/plain": [
       "{'N': 5000, 'precision': 0.9082, 'recall': 0.4181399631675875}"
      ]
     },
     "execution_count": 42,
     "metadata": {},
     "output_type": "execute_result"
    }
   ],
   "source": [
    "evaluate(model)"
   ]
  },
  {
   "cell_type": "markdown",
   "metadata": {},
   "source": [
    "## Word Representation"
   ]
  },
  {
   "cell_type": "code",
   "execution_count": 22,
   "metadata": {},
   "outputs": [
    {
     "data": {
      "text/plain": [
       "array([ 0.33102927, -0.00505708, -0.06864711,  0.06713303, -0.26286536,\n",
       "       -0.17741205, -0.16304077, -0.4402635 ,  0.4674509 , -0.06525651,\n",
       "       -0.40054867, -0.12056362, -0.067091  , -0.33751154, -0.5043269 ,\n",
       "        0.03185381, -0.2323712 , -0.02592087,  0.23117666, -0.01893312,\n",
       "        0.42657536,  0.20391884, -0.17958076, -0.0933025 , -0.05848107,\n",
       "        0.05749403,  0.24501762, -0.3789084 , -0.18331921,  0.15757018,\n",
       "        0.10749961,  0.4476397 , -0.04886856, -0.2935044 ,  0.00423955,\n",
       "        0.1513073 , -0.1794089 ,  0.024643  , -0.1008096 , -0.03077056,\n",
       "        0.33447737,  0.280899  ,  0.0217999 , -0.092246  ,  0.04432036,\n",
       "       -0.26113498,  0.28969112,  0.13137189,  0.28717273,  0.34986067],\n",
       "      dtype=float32)"
      ]
     },
     "execution_count": 22,
     "metadata": {},
     "output_type": "execute_result"
    }
   ],
   "source": [
    "model.get_word_vector(\"were\")"
   ]
  },
  {
   "cell_type": "code",
   "execution_count": 24,
   "metadata": {},
   "outputs": [],
   "source": [
    "model=fasttext.load_model(\"fasttext_multilabel.bin\")"
   ]
  },
  {
   "cell_type": "code",
   "execution_count": 25,
   "metadata": {},
   "outputs": [
    {
     "name": "stderr",
     "output_type": "stream",
     "text": [
      "Read 0M words\n",
      "Number of words:  8013\n",
      "Number of labels: 6\n",
      "Progress: 100.0% words/sec/thread:  370445 lr:  0.000000 avg.loss:  2.103318 ETA:   0h 0m 0s\n"
     ]
    }
   ],
   "source": [
    "model = fasttext.train_unsupervised(\"hspeech.train\", \"cbow\")"
   ]
  },
  {
   "cell_type": "code",
   "execution_count": 29,
   "metadata": {},
   "outputs": [
    {
     "data": {
      "text/plain": [
       "[(0.9932989478111267, 'dumb,'),\n",
       " (0.9895120859146118, 'dumb.'),\n",
       " (0.9768179655075073, 'loser.'),\n",
       " (0.9762691855430603, 'lol.'),\n",
       " (0.9748433232307434, 'ugly,'),\n",
       " (0.9736857414245605, 'cunts.'),\n",
       " (0.9719087481498718, 'job'),\n",
       " (0.9717002511024475, 'slut.'),\n",
       " (0.9713154435157776, 'boy,'),\n",
       " (0.9704710245132446, 'punk')]"
      ]
     },
     "execution_count": 29,
     "metadata": {},
     "output_type": "execute_result"
    }
   ],
   "source": [
    "model.get_nearest_neighbors(\"dumb\")"
   ]
  },
  {
   "cell_type": "code",
   "execution_count": null,
   "metadata": {},
   "outputs": [],
   "source": []
  }
 ],
 "metadata": {
  "kernelspec": {
   "display_name": "Python 3",
   "language": "python",
   "name": "python3"
  },
  "language_info": {
   "codemirror_mode": {
    "name": "ipython",
    "version": 3
   },
   "file_extension": ".py",
   "mimetype": "text/x-python",
   "name": "python",
   "nbconvert_exporter": "python",
   "pygments_lexer": "ipython3",
   "version": "3.12.1"
  }
 },
 "nbformat": 4,
 "nbformat_minor": 2
}
